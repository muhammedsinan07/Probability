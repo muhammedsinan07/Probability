{
 "cells": [
  {
   "cell_type": "code",
   "execution_count": 1,
   "id": "24f3623c",
   "metadata": {},
   "outputs": [],
   "source": [
    "import pandas as pd\n",
    "import numpy as np\n",
    "import matplotlib.pyplot as plt\n",
    "import random"
   ]
  },
  {
   "cell_type": "markdown",
   "id": "dad2baf0",
   "metadata": {},
   "source": [
    "<h1 style='color:blue'>Introduction to Probability</h1>"
   ]
  },
  {
   "cell_type": "markdown",
   "id": "d24b22e4",
   "metadata": {},
   "source": [
    "##### What is probaility ?"
   ]
  },
  {
   "cell_type": "markdown",
   "id": "d22906f8",
   "metadata": {},
   "source": [
    "- It is the numerical likelihood of an event will over\n",
    "- Probability of any event must be between 0 and 1,inclusively\n",
    "- The sum of the Probabilities of all mutually and collectively exhaustive events is 1\n",
    "- P(A) + P(B) + P(C) = 1\n",
    "\n",
    "       - A,B,C are mutually exclusive events"
   ]
  },
  {
   "cell_type": "markdown",
   "id": "599ffa96",
   "metadata": {},
   "source": [
    "### Methods of Assigning Probabilities"
   ]
  },
  {
   "cell_type": "markdown",
   "id": "3d82dde8",
   "metadata": {},
   "source": [
    "- Classical methiods of assigning probabilities (rules and laws)\n",
    "- Relative frequancy of occurence (Based on historical data)\n",
    "- Subjective probability (Personal intution of reasoning)"
   ]
  },
  {
   "cell_type": "markdown",
   "id": "5df9bd6c",
   "metadata": {},
   "source": [
    "#### Classical methiods of assigning probabilities (rules and laws)"
   ]
  },
  {
   "cell_type": "markdown",
   "id": "34a2bdcb",
   "metadata": {},
   "source": [
    "- Number of outcomes leading to the event devided by the total number of outcomes possible\n",
    "- Each outcome equally likely\n",
    "- Determine A Priori -- before performing the experiment\n",
    "- Objective : everyone correcly using the methods assigns and identical probability"
   ]
  },
  {
   "cell_type": "markdown",
   "id": "8e62b0b3",
   "metadata": {},
   "source": [
    "#### Relative frequancy of occurence (Based on historical data)"
   ]
  },
  {
   "cell_type": "markdown",
   "id": "8d927c14",
   "metadata": {},
   "source": [
    "- Based on historical data\n",
    "- Computer after performing an experiment\n",
    "- Number of times an event occured / Number of trial\n",
    "- Objective : everyone correcly using the methods"
   ]
  },
  {
   "cell_type": "markdown",
   "id": "d9c577f3",
   "metadata": {},
   "source": [
    "#### Subjective probability (Personal intution of reasoning)"
   ]
  },
  {
   "cell_type": "markdown",
   "id": "f0b09e49",
   "metadata": {},
   "source": [
    "- comes from a person's intuition or reasoning\n",
    "- Subjective : different individuals may assign different numeracal probability to the same event \n",
    "- Degree of belief\n",
    "- User for (single trial experiments)\n",
    "        \n",
    "        - New Product Introduction\n",
    "        - IPO of new stock\n",
    "        - Site selection decisions\n",
    "        - Sporting Events"
   ]
  },
  {
   "cell_type": "markdown",
   "id": "75b99324",
   "metadata": {},
   "source": [
    "### Terminologies"
   ]
  },
  {
   "cell_type": "markdown",
   "id": "4213c063",
   "metadata": {},
   "source": [
    "- Experiment\n",
    "- Trial \n",
    "- Elementary Event\n",
    "- Event\n",
    "- Sample Space \n",
    "- Unions and Intersections\n",
    "- Mutuslly Exclusive Events\n",
    "- Independent Events\n",
    "- Collectively Exhaustive Events\n",
    "- Compimentary Events\n",
    "- Sampling with Replacement\n",
    "- Sampling without Replacement"
   ]
  },
  {
   "cell_type": "markdown",
   "id": "8d01e317",
   "metadata": {},
   "source": [
    "### Methods for Describing Sample Space"
   ]
  },
  {
   "cell_type": "markdown",
   "id": "9ebd7226",
   "metadata": {},
   "source": [
    "- Listing \n",
    "- Tree diagram\n",
    "- Set builder notation \n",
    "- Venn Diagram"
   ]
  },
  {
   "cell_type": "code",
   "execution_count": 2,
   "id": "d41a2a64",
   "metadata": {},
   "outputs": [],
   "source": [
    "all_posible_outcomes = {1,2,3,4,5,6}"
   ]
  },
  {
   "cell_type": "code",
   "execution_count": 3,
   "id": "9f702ddf",
   "metadata": {},
   "outputs": [],
   "source": [
    "a_event = {5}"
   ]
  },
  {
   "cell_type": "code",
   "execution_count": 4,
   "id": "b3935220",
   "metadata": {},
   "outputs": [],
   "source": [
    "complement_of_a = all_posible_outcomes - a_event"
   ]
  },
  {
   "cell_type": "code",
   "execution_count": 5,
   "id": "c9ee636a",
   "metadata": {},
   "outputs": [
    {
     "data": {
      "text/plain": [
       "{1, 2, 3, 4, 6}"
      ]
     },
     "execution_count": 5,
     "metadata": {},
     "output_type": "execute_result"
    }
   ],
   "source": [
    "complement_of_a"
   ]
  },
  {
   "cell_type": "markdown",
   "id": "4782a967",
   "metadata": {},
   "source": [
    "### Union And Intersection"
   ]
  },
  {
   "cell_type": "markdown",
   "id": "8daba0e0",
   "metadata": {},
   "source": [
    "#### Union"
   ]
  },
  {
   "cell_type": "code",
   "execution_count": 6,
   "id": "3b38c606",
   "metadata": {},
   "outputs": [],
   "source": [
    "male_ages = {25,18,22,24,19,20,21,23}\n",
    "female_ages = {20,22,17,16,27,29,26,18}"
   ]
  },
  {
   "cell_type": "code",
   "execution_count": 8,
   "id": "ad558dba",
   "metadata": {},
   "outputs": [
    {
     "data": {
      "text/plain": [
       "{16, 17, 18, 19, 20, 21, 22, 23, 24, 25, 26, 27, 29}"
      ]
     },
     "execution_count": 8,
     "metadata": {},
     "output_type": "execute_result"
    }
   ],
   "source": [
    "male_ages | female_ages"
   ]
  },
  {
   "cell_type": "markdown",
   "id": "3d612758",
   "metadata": {},
   "source": [
    "- These are the union values of male and female ages\n",
    "- Taking every values but not repeating"
   ]
  },
  {
   "cell_type": "markdown",
   "id": "fb9365f0",
   "metadata": {},
   "source": [
    "#### Intersection"
   ]
  },
  {
   "cell_type": "code",
   "execution_count": 9,
   "id": "2975284a",
   "metadata": {},
   "outputs": [
    {
     "data": {
      "text/plain": [
       "{18, 20, 22}"
      ]
     },
     "execution_count": 9,
     "metadata": {},
     "output_type": "execute_result"
    }
   ],
   "source": [
    "male_ages & female_ages"
   ]
  },
  {
   "cell_type": "markdown",
   "id": "3d41bc88",
   "metadata": {},
   "source": [
    "- Intersection means the common values from the male and female ages"
   ]
  },
  {
   "cell_type": "code",
   "execution_count": 11,
   "id": "2bf66b4e",
   "metadata": {},
   "outputs": [],
   "source": [
    "class_7 = {'john','michael','mia','toby','jack'}\n",
    "class_8 = {'michael','samantha','paul','mia','helen'}\n",
    "class_9 = {'sansa','paul','michael','helen','john'}"
   ]
  },
  {
   "cell_type": "code",
   "execution_count": 12,
   "id": "ee2bcd6a",
   "metadata": {},
   "outputs": [
    {
     "data": {
      "text/plain": [
       "{'helen',\n",
       " 'jack',\n",
       " 'john',\n",
       " 'mia',\n",
       " 'michael',\n",
       " 'paul',\n",
       " 'samantha',\n",
       " 'sansa',\n",
       " 'toby'}"
      ]
     },
     "execution_count": 12,
     "metadata": {},
     "output_type": "execute_result"
    }
   ],
   "source": [
    "class_7 | class_8 | class_9"
   ]
  },
  {
   "cell_type": "markdown",
   "id": "9b184a24",
   "metadata": {},
   "source": [
    "- These are the union names of the classes"
   ]
  },
  {
   "cell_type": "code",
   "execution_count": 13,
   "id": "0c635fa7",
   "metadata": {},
   "outputs": [
    {
     "data": {
      "text/plain": [
       "{'michael'}"
      ]
     },
     "execution_count": 13,
     "metadata": {},
     "output_type": "execute_result"
    }
   ],
   "source": [
    "class_7 & class_8 & class_9"
   ]
  },
  {
   "cell_type": "markdown",
   "id": "c1092593",
   "metadata": {},
   "source": [
    "- michael is the only name which is common in the classes"
   ]
  },
  {
   "cell_type": "code",
   "execution_count": 14,
   "id": "61f5caf1",
   "metadata": {},
   "outputs": [
    {
     "data": {
      "text/plain": [
       "{'helen', 'jack', 'john', 'mia', 'michael', 'paul', 'sansa', 'toby'}"
      ]
     },
     "execution_count": 14,
     "metadata": {},
     "output_type": "execute_result"
    }
   ],
   "source": [
    "class_7 | class_9"
   ]
  },
  {
   "cell_type": "code",
   "execution_count": 15,
   "id": "a200a384",
   "metadata": {},
   "outputs": [
    {
     "data": {
      "text/plain": [
       "{'john', 'michael'}"
      ]
     },
     "execution_count": 15,
     "metadata": {},
     "output_type": "execute_result"
    }
   ],
   "source": [
    "class_7 & class_9"
   ]
  },
  {
   "cell_type": "code",
   "execution_count": 16,
   "id": "8afb5079",
   "metadata": {},
   "outputs": [
    {
     "data": {
      "text/plain": [
       "{'helen', 'john', 'mia', 'michael', 'paul', 'samantha', 'sansa'}"
      ]
     },
     "execution_count": 16,
     "metadata": {},
     "output_type": "execute_result"
    }
   ],
   "source": [
    "class_8 | class_9"
   ]
  },
  {
   "cell_type": "code",
   "execution_count": 18,
   "id": "8e9bc2fa",
   "metadata": {},
   "outputs": [
    {
     "data": {
      "text/plain": [
       "{'helen', 'michael', 'paul'}"
      ]
     },
     "execution_count": 18,
     "metadata": {},
     "output_type": "execute_result"
    }
   ],
   "source": [
    "class_8 & class_9"
   ]
  },
  {
   "cell_type": "code",
   "execution_count": 19,
   "id": "2f2662b3",
   "metadata": {},
   "outputs": [
    {
     "data": {
      "text/plain": [
       "{'helen', 'jack', 'john', 'mia', 'michael', 'paul', 'samantha', 'toby'}"
      ]
     },
     "execution_count": 19,
     "metadata": {},
     "output_type": "execute_result"
    }
   ],
   "source": [
    "class_7 | class_8"
   ]
  },
  {
   "cell_type": "code",
   "execution_count": 20,
   "id": "3cb92e58",
   "metadata": {},
   "outputs": [
    {
     "data": {
      "text/plain": [
       "{'mia', 'michael'}"
      ]
     },
     "execution_count": 20,
     "metadata": {},
     "output_type": "execute_result"
    }
   ],
   "source": [
    "class_7 & class_8"
   ]
  },
  {
   "cell_type": "code",
   "execution_count": 4,
   "id": "7a5e8004",
   "metadata": {},
   "outputs": [
    {
     "data": {
      "text/plain": [
       "{1, 2, 3, 5, 6}"
      ]
     },
     "execution_count": 4,
     "metadata": {},
     "output_type": "execute_result"
    }
   ],
   "source": [
    "A = {1,3,5,6,2,1,3,5}\n",
    "A"
   ]
  },
  {
   "cell_type": "markdown",
   "id": "955b5c75",
   "metadata": {},
   "source": [
    "### Operations On Sets"
   ]
  },
  {
   "cell_type": "markdown",
   "id": "e3c77b9e",
   "metadata": {},
   "source": [
    "<h3 style='color:green'>Subset</h3>"
   ]
  },
  {
   "cell_type": "code",
   "execution_count": 5,
   "id": "e5e6745c",
   "metadata": {},
   "outputs": [],
   "source": [
    "A = {1,2,3,4}\n",
    "B = {3,5,4,1}"
   ]
  },
  {
   "cell_type": "markdown",
   "id": "11d44461",
   "metadata": {},
   "source": [
    "- A and B is a subset of AUB\n",
    "- empty set({}) is also a subset of a set\n",
    "- every set is a subset itself"
   ]
  },
  {
   "cell_type": "code",
   "execution_count": 6,
   "id": "1af16941",
   "metadata": {},
   "outputs": [
    {
     "data": {
      "text/plain": [
       "set"
      ]
     },
     "execution_count": 6,
     "metadata": {},
     "output_type": "execute_result"
    }
   ],
   "source": [
    "type(A)"
   ]
  },
  {
   "cell_type": "code",
   "execution_count": 9,
   "id": "250c2bcd",
   "metadata": {},
   "outputs": [],
   "source": [
    "C = {20,30,40,60,70}\n",
    "D = {30,40,50}\n",
    "E = {20,30}"
   ]
  },
  {
   "cell_type": "code",
   "execution_count": 10,
   "id": "be3f1e79",
   "metadata": {},
   "outputs": [
    {
     "data": {
      "text/plain": [
       "False"
      ]
     },
     "execution_count": 10,
     "metadata": {},
     "output_type": "execute_result"
    }
   ],
   "source": [
    "C.issubset(D)"
   ]
  },
  {
   "cell_type": "code",
   "execution_count": 11,
   "id": "58bb411d",
   "metadata": {},
   "outputs": [
    {
     "data": {
      "text/plain": [
       "False"
      ]
     },
     "execution_count": 11,
     "metadata": {},
     "output_type": "execute_result"
    }
   ],
   "source": [
    "C.issubset(E)"
   ]
  },
  {
   "cell_type": "code",
   "execution_count": 12,
   "id": "4ef4a13f",
   "metadata": {},
   "outputs": [
    {
     "data": {
      "text/plain": [
       "True"
      ]
     },
     "execution_count": 12,
     "metadata": {},
     "output_type": "execute_result"
    }
   ],
   "source": [
    "E.issubset(C)"
   ]
  },
  {
   "cell_type": "code",
   "execution_count": 13,
   "id": "c37f013f",
   "metadata": {},
   "outputs": [],
   "source": [
    "Q = {60,70}"
   ]
  },
  {
   "cell_type": "code",
   "execution_count": 14,
   "id": "025fc1b1",
   "metadata": {},
   "outputs": [
    {
     "data": {
      "text/plain": [
       "True"
      ]
     },
     "execution_count": 14,
     "metadata": {},
     "output_type": "execute_result"
    }
   ],
   "source": [
    "Q.issubset(C)"
   ]
  },
  {
   "cell_type": "code",
   "execution_count": 15,
   "id": "302e75f4",
   "metadata": {},
   "outputs": [],
   "source": [
    "F = set()"
   ]
  },
  {
   "cell_type": "code",
   "execution_count": 16,
   "id": "bfb2a3a8",
   "metadata": {},
   "outputs": [
    {
     "data": {
      "text/plain": [
       "True"
      ]
     },
     "execution_count": 16,
     "metadata": {},
     "output_type": "execute_result"
    }
   ],
   "source": [
    "F.issubset(C)"
   ]
  },
  {
   "cell_type": "code",
   "execution_count": 18,
   "id": "51fcff5b",
   "metadata": {},
   "outputs": [
    {
     "data": {
      "text/plain": [
       "True"
      ]
     },
     "execution_count": 18,
     "metadata": {},
     "output_type": "execute_result"
    }
   ],
   "source": [
    "C.issubset(C)"
   ]
  },
  {
   "cell_type": "markdown",
   "id": "dfa59e45",
   "metadata": {},
   "source": [
    "#### membership"
   ]
  },
  {
   "cell_type": "code",
   "execution_count": 20,
   "id": "3163b04c",
   "metadata": {},
   "outputs": [
    {
     "data": {
      "text/plain": [
       "{20, 30, 40, 60, 70}"
      ]
     },
     "execution_count": 20,
     "metadata": {},
     "output_type": "execute_result"
    }
   ],
   "source": [
    "C"
   ]
  },
  {
   "cell_type": "code",
   "execution_count": 21,
   "id": "ca79fcbc",
   "metadata": {},
   "outputs": [
    {
     "name": "stdout",
     "output_type": "stream",
     "text": [
      "False\n"
     ]
    }
   ],
   "source": [
    "print(100 in C)"
   ]
  },
  {
   "cell_type": "markdown",
   "id": "6b1b4bc3",
   "metadata": {},
   "source": [
    "<h3 style='color:brown'>Union</h3>"
   ]
  },
  {
   "cell_type": "code",
   "execution_count": 22,
   "id": "984030f5",
   "metadata": {},
   "outputs": [],
   "source": [
    "A = {30,40,50,70,60,34,34,878}\n",
    "B = {50,40,56,23,56,34,878}"
   ]
  },
  {
   "cell_type": "code",
   "execution_count": 23,
   "id": "eff7eabc",
   "metadata": {},
   "outputs": [
    {
     "data": {
      "text/plain": [
       "6"
      ]
     },
     "execution_count": 23,
     "metadata": {},
     "output_type": "execute_result"
    }
   ],
   "source": [
    "len(B)"
   ]
  },
  {
   "cell_type": "code",
   "execution_count": 26,
   "id": "54c48019",
   "metadata": {},
   "outputs": [
    {
     "data": {
      "text/plain": [
       "{23, 30, 34, 40, 50, 56, 60, 70, 878}"
      ]
     },
     "execution_count": 26,
     "metadata": {},
     "output_type": "execute_result"
    }
   ],
   "source": [
    "out = A.union(B)\n",
    "out"
   ]
  },
  {
   "cell_type": "code",
   "execution_count": 27,
   "id": "fa2a6148",
   "metadata": {},
   "outputs": [
    {
     "data": {
      "text/plain": [
       "9"
      ]
     },
     "execution_count": 27,
     "metadata": {},
     "output_type": "execute_result"
    }
   ],
   "source": [
    "len(out)"
   ]
  },
  {
   "cell_type": "code",
   "execution_count": 28,
   "id": "00129d23",
   "metadata": {},
   "outputs": [
    {
     "data": {
      "text/plain": [
       "{23, 30, 34, 40, 50, 56, 60, 70, 878}"
      ]
     },
     "execution_count": 28,
     "metadata": {},
     "output_type": "execute_result"
    }
   ],
   "source": [
    "A|B"
   ]
  },
  {
   "cell_type": "code",
   "execution_count": 30,
   "id": "1d76c425",
   "metadata": {},
   "outputs": [
    {
     "data": {
      "text/plain": [
       "{1, 2, 3, 4, 5, 6, 7, 8}"
      ]
     },
     "execution_count": 30,
     "metadata": {},
     "output_type": "execute_result"
    }
   ],
   "source": [
    "set_A = {1,2,3,4,5}\n",
    "set_B = {4,5,6,7,8}\n",
    "\n",
    "union_sets = set(set_A).union(set_B)\n",
    "union_sets"
   ]
  },
  {
   "cell_type": "code",
   "execution_count": 31,
   "id": "62bf7ed8",
   "metadata": {},
   "outputs": [
    {
     "data": {
      "text/plain": [
       "{1, 2, 3, 4, 5, 6, 7, 8}"
      ]
     },
     "execution_count": 31,
     "metadata": {},
     "output_type": "execute_result"
    }
   ],
   "source": [
    "set_A|set_B"
   ]
  },
  {
   "cell_type": "markdown",
   "id": "797a45d0",
   "metadata": {},
   "source": [
    "<h3 style='color:brown'>Intersection</h3>"
   ]
  },
  {
   "cell_type": "markdown",
   "id": "3c052d93",
   "metadata": {},
   "source": [
    "- Bookreading\n",
    "- Problem Reference"
   ]
  },
  {
   "cell_type": "code",
   "execution_count": 32,
   "id": "e050cc84",
   "metadata": {},
   "outputs": [],
   "source": [
    "import random"
   ]
  },
  {
   "cell_type": "code",
   "execution_count": 36,
   "id": "eef287c6",
   "metadata": {},
   "outputs": [
    {
     "name": "stdout",
     "output_type": "stream",
     "text": [
      "Jithin\n",
      "Shyam\n"
     ]
    }
   ],
   "source": [
    "students = ['Hari','Shyam','Jithin','Kevin']\n",
    "selected_students = random.sample(students,2)\n",
    "\n",
    "for students in selected_students:\n",
    "    print(students)"
   ]
  },
  {
   "cell_type": "markdown",
   "id": "a89921d8",
   "metadata": {},
   "source": [
    "----"
   ]
  },
  {
   "cell_type": "markdown",
   "id": "6338bb5b",
   "metadata": {},
   "source": [
    "---"
   ]
  },
  {
   "cell_type": "markdown",
   "id": "47377a51",
   "metadata": {},
   "source": [
    "---"
   ]
  },
  {
   "cell_type": "markdown",
   "id": "3b353e41",
   "metadata": {},
   "source": [
    "---"
   ]
  },
  {
   "cell_type": "code",
   "execution_count": 2,
   "id": "16d9e65f",
   "metadata": {},
   "outputs": [],
   "source": [
    "loan=pd.read_csv('train_loan.csv.xls')"
   ]
  },
  {
   "cell_type": "code",
   "execution_count": 3,
   "id": "a42c37a8",
   "metadata": {},
   "outputs": [
    {
     "data": {
      "text/html": [
       "<div>\n",
       "<style scoped>\n",
       "    .dataframe tbody tr th:only-of-type {\n",
       "        vertical-align: middle;\n",
       "    }\n",
       "\n",
       "    .dataframe tbody tr th {\n",
       "        vertical-align: top;\n",
       "    }\n",
       "\n",
       "    .dataframe thead th {\n",
       "        text-align: right;\n",
       "    }\n",
       "</style>\n",
       "<table border=\"1\" class=\"dataframe\">\n",
       "  <thead>\n",
       "    <tr style=\"text-align: right;\">\n",
       "      <th></th>\n",
       "      <th>Loan_ID</th>\n",
       "      <th>Gender</th>\n",
       "      <th>Married</th>\n",
       "      <th>Dependents</th>\n",
       "      <th>Education</th>\n",
       "      <th>Self_Employed</th>\n",
       "      <th>ApplicantIncome</th>\n",
       "      <th>CoapplicantIncome</th>\n",
       "      <th>LoanAmount</th>\n",
       "      <th>Loan_Amount_Term</th>\n",
       "      <th>Credit_History</th>\n",
       "      <th>Property_Area</th>\n",
       "      <th>Loan_Status</th>\n",
       "    </tr>\n",
       "  </thead>\n",
       "  <tbody>\n",
       "    <tr>\n",
       "      <th>0</th>\n",
       "      <td>LP001002</td>\n",
       "      <td>Male</td>\n",
       "      <td>No</td>\n",
       "      <td>0</td>\n",
       "      <td>Graduate</td>\n",
       "      <td>No</td>\n",
       "      <td>5849</td>\n",
       "      <td>0.0</td>\n",
       "      <td>NaN</td>\n",
       "      <td>360.0</td>\n",
       "      <td>1.0</td>\n",
       "      <td>Urban</td>\n",
       "      <td>Y</td>\n",
       "    </tr>\n",
       "    <tr>\n",
       "      <th>1</th>\n",
       "      <td>LP001003</td>\n",
       "      <td>Male</td>\n",
       "      <td>Yes</td>\n",
       "      <td>1</td>\n",
       "      <td>Graduate</td>\n",
       "      <td>No</td>\n",
       "      <td>4583</td>\n",
       "      <td>1508.0</td>\n",
       "      <td>128.0</td>\n",
       "      <td>360.0</td>\n",
       "      <td>1.0</td>\n",
       "      <td>Rural</td>\n",
       "      <td>N</td>\n",
       "    </tr>\n",
       "    <tr>\n",
       "      <th>2</th>\n",
       "      <td>LP001005</td>\n",
       "      <td>Male</td>\n",
       "      <td>Yes</td>\n",
       "      <td>0</td>\n",
       "      <td>Graduate</td>\n",
       "      <td>Yes</td>\n",
       "      <td>3000</td>\n",
       "      <td>0.0</td>\n",
       "      <td>66.0</td>\n",
       "      <td>360.0</td>\n",
       "      <td>1.0</td>\n",
       "      <td>Urban</td>\n",
       "      <td>Y</td>\n",
       "    </tr>\n",
       "    <tr>\n",
       "      <th>3</th>\n",
       "      <td>LP001006</td>\n",
       "      <td>Male</td>\n",
       "      <td>Yes</td>\n",
       "      <td>0</td>\n",
       "      <td>Not Graduate</td>\n",
       "      <td>No</td>\n",
       "      <td>2583</td>\n",
       "      <td>2358.0</td>\n",
       "      <td>120.0</td>\n",
       "      <td>360.0</td>\n",
       "      <td>1.0</td>\n",
       "      <td>Urban</td>\n",
       "      <td>Y</td>\n",
       "    </tr>\n",
       "    <tr>\n",
       "      <th>4</th>\n",
       "      <td>LP001008</td>\n",
       "      <td>Male</td>\n",
       "      <td>No</td>\n",
       "      <td>0</td>\n",
       "      <td>Graduate</td>\n",
       "      <td>No</td>\n",
       "      <td>6000</td>\n",
       "      <td>0.0</td>\n",
       "      <td>141.0</td>\n",
       "      <td>360.0</td>\n",
       "      <td>1.0</td>\n",
       "      <td>Urban</td>\n",
       "      <td>Y</td>\n",
       "    </tr>\n",
       "    <tr>\n",
       "      <th>...</th>\n",
       "      <td>...</td>\n",
       "      <td>...</td>\n",
       "      <td>...</td>\n",
       "      <td>...</td>\n",
       "      <td>...</td>\n",
       "      <td>...</td>\n",
       "      <td>...</td>\n",
       "      <td>...</td>\n",
       "      <td>...</td>\n",
       "      <td>...</td>\n",
       "      <td>...</td>\n",
       "      <td>...</td>\n",
       "      <td>...</td>\n",
       "    </tr>\n",
       "    <tr>\n",
       "      <th>609</th>\n",
       "      <td>LP002978</td>\n",
       "      <td>Female</td>\n",
       "      <td>No</td>\n",
       "      <td>0</td>\n",
       "      <td>Graduate</td>\n",
       "      <td>No</td>\n",
       "      <td>2900</td>\n",
       "      <td>0.0</td>\n",
       "      <td>71.0</td>\n",
       "      <td>360.0</td>\n",
       "      <td>1.0</td>\n",
       "      <td>Rural</td>\n",
       "      <td>Y</td>\n",
       "    </tr>\n",
       "    <tr>\n",
       "      <th>610</th>\n",
       "      <td>LP002979</td>\n",
       "      <td>Male</td>\n",
       "      <td>Yes</td>\n",
       "      <td>3+</td>\n",
       "      <td>Graduate</td>\n",
       "      <td>No</td>\n",
       "      <td>4106</td>\n",
       "      <td>0.0</td>\n",
       "      <td>40.0</td>\n",
       "      <td>180.0</td>\n",
       "      <td>1.0</td>\n",
       "      <td>Rural</td>\n",
       "      <td>Y</td>\n",
       "    </tr>\n",
       "    <tr>\n",
       "      <th>611</th>\n",
       "      <td>LP002983</td>\n",
       "      <td>Male</td>\n",
       "      <td>Yes</td>\n",
       "      <td>1</td>\n",
       "      <td>Graduate</td>\n",
       "      <td>No</td>\n",
       "      <td>8072</td>\n",
       "      <td>240.0</td>\n",
       "      <td>253.0</td>\n",
       "      <td>360.0</td>\n",
       "      <td>1.0</td>\n",
       "      <td>Urban</td>\n",
       "      <td>Y</td>\n",
       "    </tr>\n",
       "    <tr>\n",
       "      <th>612</th>\n",
       "      <td>LP002984</td>\n",
       "      <td>Male</td>\n",
       "      <td>Yes</td>\n",
       "      <td>2</td>\n",
       "      <td>Graduate</td>\n",
       "      <td>No</td>\n",
       "      <td>7583</td>\n",
       "      <td>0.0</td>\n",
       "      <td>187.0</td>\n",
       "      <td>360.0</td>\n",
       "      <td>1.0</td>\n",
       "      <td>Urban</td>\n",
       "      <td>Y</td>\n",
       "    </tr>\n",
       "    <tr>\n",
       "      <th>613</th>\n",
       "      <td>LP002990</td>\n",
       "      <td>Female</td>\n",
       "      <td>No</td>\n",
       "      <td>0</td>\n",
       "      <td>Graduate</td>\n",
       "      <td>Yes</td>\n",
       "      <td>4583</td>\n",
       "      <td>0.0</td>\n",
       "      <td>133.0</td>\n",
       "      <td>360.0</td>\n",
       "      <td>0.0</td>\n",
       "      <td>Semiurban</td>\n",
       "      <td>N</td>\n",
       "    </tr>\n",
       "  </tbody>\n",
       "</table>\n",
       "<p>614 rows × 13 columns</p>\n",
       "</div>"
      ],
      "text/plain": [
       "      Loan_ID  Gender Married Dependents     Education Self_Employed  \\\n",
       "0    LP001002    Male      No          0      Graduate            No   \n",
       "1    LP001003    Male     Yes          1      Graduate            No   \n",
       "2    LP001005    Male     Yes          0      Graduate           Yes   \n",
       "3    LP001006    Male     Yes          0  Not Graduate            No   \n",
       "4    LP001008    Male      No          0      Graduate            No   \n",
       "..        ...     ...     ...        ...           ...           ...   \n",
       "609  LP002978  Female      No          0      Graduate            No   \n",
       "610  LP002979    Male     Yes         3+      Graduate            No   \n",
       "611  LP002983    Male     Yes          1      Graduate            No   \n",
       "612  LP002984    Male     Yes          2      Graduate            No   \n",
       "613  LP002990  Female      No          0      Graduate           Yes   \n",
       "\n",
       "     ApplicantIncome  CoapplicantIncome  LoanAmount  Loan_Amount_Term  \\\n",
       "0               5849                0.0         NaN             360.0   \n",
       "1               4583             1508.0       128.0             360.0   \n",
       "2               3000                0.0        66.0             360.0   \n",
       "3               2583             2358.0       120.0             360.0   \n",
       "4               6000                0.0       141.0             360.0   \n",
       "..               ...                ...         ...               ...   \n",
       "609             2900                0.0        71.0             360.0   \n",
       "610             4106                0.0        40.0             180.0   \n",
       "611             8072              240.0       253.0             360.0   \n",
       "612             7583                0.0       187.0             360.0   \n",
       "613             4583                0.0       133.0             360.0   \n",
       "\n",
       "     Credit_History Property_Area Loan_Status  \n",
       "0               1.0         Urban           Y  \n",
       "1               1.0         Rural           N  \n",
       "2               1.0         Urban           Y  \n",
       "3               1.0         Urban           Y  \n",
       "4               1.0         Urban           Y  \n",
       "..              ...           ...         ...  \n",
       "609             1.0         Rural           Y  \n",
       "610             1.0         Rural           Y  \n",
       "611             1.0         Urban           Y  \n",
       "612             1.0         Urban           Y  \n",
       "613             0.0     Semiurban           N  \n",
       "\n",
       "[614 rows x 13 columns]"
      ]
     },
     "execution_count": 3,
     "metadata": {},
     "output_type": "execute_result"
    }
   ],
   "source": [
    "loan"
   ]
  },
  {
   "cell_type": "code",
   "execution_count": 4,
   "id": "e891d971",
   "metadata": {},
   "outputs": [
    {
     "data": {
      "text/plain": [
       "array(['Graduate', 'Not Graduate'], dtype=object)"
      ]
     },
     "execution_count": 4,
     "metadata": {},
     "output_type": "execute_result"
    }
   ],
   "source": [
    "loan['Education'].unique()"
   ]
  },
  {
   "cell_type": "markdown",
   "id": "41e5e7f4",
   "metadata": {},
   "source": [
    "P(A|B) = What is the probability to get loan approval if you are a gratuated"
   ]
  },
  {
   "cell_type": "code",
   "execution_count": 5,
   "id": "76c01a24",
   "metadata": {},
   "outputs": [
    {
     "data": {
      "text/html": [
       "<div>\n",
       "<style scoped>\n",
       "    .dataframe tbody tr th:only-of-type {\n",
       "        vertical-align: middle;\n",
       "    }\n",
       "\n",
       "    .dataframe tbody tr th {\n",
       "        vertical-align: top;\n",
       "    }\n",
       "\n",
       "    .dataframe thead th {\n",
       "        text-align: right;\n",
       "    }\n",
       "</style>\n",
       "<table border=\"1\" class=\"dataframe\">\n",
       "  <thead>\n",
       "    <tr style=\"text-align: right;\">\n",
       "      <th></th>\n",
       "      <th>ApplicantIncome</th>\n",
       "      <th>CoapplicantIncome</th>\n",
       "      <th>LoanAmount</th>\n",
       "      <th>Loan_Amount_Term</th>\n",
       "      <th>Credit_History</th>\n",
       "    </tr>\n",
       "  </thead>\n",
       "  <tbody>\n",
       "    <tr>\n",
       "      <th>count</th>\n",
       "      <td>614.000000</td>\n",
       "      <td>614.000000</td>\n",
       "      <td>592.000000</td>\n",
       "      <td>600.00000</td>\n",
       "      <td>564.000000</td>\n",
       "    </tr>\n",
       "    <tr>\n",
       "      <th>mean</th>\n",
       "      <td>5403.459283</td>\n",
       "      <td>1621.245798</td>\n",
       "      <td>146.412162</td>\n",
       "      <td>342.00000</td>\n",
       "      <td>0.842199</td>\n",
       "    </tr>\n",
       "    <tr>\n",
       "      <th>std</th>\n",
       "      <td>6109.041673</td>\n",
       "      <td>2926.248369</td>\n",
       "      <td>85.587325</td>\n",
       "      <td>65.12041</td>\n",
       "      <td>0.364878</td>\n",
       "    </tr>\n",
       "    <tr>\n",
       "      <th>min</th>\n",
       "      <td>150.000000</td>\n",
       "      <td>0.000000</td>\n",
       "      <td>9.000000</td>\n",
       "      <td>12.00000</td>\n",
       "      <td>0.000000</td>\n",
       "    </tr>\n",
       "    <tr>\n",
       "      <th>25%</th>\n",
       "      <td>2877.500000</td>\n",
       "      <td>0.000000</td>\n",
       "      <td>100.000000</td>\n",
       "      <td>360.00000</td>\n",
       "      <td>1.000000</td>\n",
       "    </tr>\n",
       "    <tr>\n",
       "      <th>50%</th>\n",
       "      <td>3812.500000</td>\n",
       "      <td>1188.500000</td>\n",
       "      <td>128.000000</td>\n",
       "      <td>360.00000</td>\n",
       "      <td>1.000000</td>\n",
       "    </tr>\n",
       "    <tr>\n",
       "      <th>75%</th>\n",
       "      <td>5795.000000</td>\n",
       "      <td>2297.250000</td>\n",
       "      <td>168.000000</td>\n",
       "      <td>360.00000</td>\n",
       "      <td>1.000000</td>\n",
       "    </tr>\n",
       "    <tr>\n",
       "      <th>max</th>\n",
       "      <td>81000.000000</td>\n",
       "      <td>41667.000000</td>\n",
       "      <td>700.000000</td>\n",
       "      <td>480.00000</td>\n",
       "      <td>1.000000</td>\n",
       "    </tr>\n",
       "  </tbody>\n",
       "</table>\n",
       "</div>"
      ],
      "text/plain": [
       "       ApplicantIncome  CoapplicantIncome  LoanAmount  Loan_Amount_Term  \\\n",
       "count       614.000000         614.000000  592.000000         600.00000   \n",
       "mean       5403.459283        1621.245798  146.412162         342.00000   \n",
       "std        6109.041673        2926.248369   85.587325          65.12041   \n",
       "min         150.000000           0.000000    9.000000          12.00000   \n",
       "25%        2877.500000           0.000000  100.000000         360.00000   \n",
       "50%        3812.500000        1188.500000  128.000000         360.00000   \n",
       "75%        5795.000000        2297.250000  168.000000         360.00000   \n",
       "max       81000.000000       41667.000000  700.000000         480.00000   \n",
       "\n",
       "       Credit_History  \n",
       "count      564.000000  \n",
       "mean         0.842199  \n",
       "std          0.364878  \n",
       "min          0.000000  \n",
       "25%          1.000000  \n",
       "50%          1.000000  \n",
       "75%          1.000000  \n",
       "max          1.000000  "
      ]
     },
     "execution_count": 5,
     "metadata": {},
     "output_type": "execute_result"
    }
   ],
   "source": [
    "loan.describe()"
   ]
  },
  {
   "cell_type": "code",
   "execution_count": 6,
   "id": "c141ecb1",
   "metadata": {},
   "outputs": [
    {
     "data": {
      "text/plain": [
       "(614, 13)"
      ]
     },
     "execution_count": 6,
     "metadata": {},
     "output_type": "execute_result"
    }
   ],
   "source": [
    "loan.shape"
   ]
  },
  {
   "cell_type": "code",
   "execution_count": 4,
   "id": "41f91bab",
   "metadata": {},
   "outputs": [
    {
     "data": {
      "text/plain": [
       "Loan_ID               0\n",
       "Gender               13\n",
       "Married               3\n",
       "Dependents           15\n",
       "Education             0\n",
       "Self_Employed        32\n",
       "ApplicantIncome       0\n",
       "CoapplicantIncome     0\n",
       "LoanAmount           22\n",
       "Loan_Amount_Term     14\n",
       "Credit_History       50\n",
       "Property_Area         0\n",
       "Loan_Status           0\n",
       "dtype: int64"
      ]
     },
     "execution_count": 4,
     "metadata": {},
     "output_type": "execute_result"
    }
   ],
   "source": [
    "loan.isnull().sum()"
   ]
  },
  {
   "cell_type": "code",
   "execution_count": 5,
   "id": "476bbf15",
   "metadata": {},
   "outputs": [
    {
     "data": {
      "image/png": "[encoded data removed]",
      "text/plain": [
       "<Figure size 640x480 with 1 Axes>"
      ]
     },
     "metadata": {},
     "output_type": "display_data"
    }
   ],
   "source": [
    "plt.hist(loan['LoanAmount'],color='red',edgecolor='k',linewidth=2)\n",
    "plt.show()"
   ]
  },
  {
   "cell_type": "code",
   "execution_count": 6,
   "id": "ce69c80b",
   "metadata": {},
   "outputs": [
    {
     "data": {
      "image/png": "[encoded data removed]",
      "text/plain": [
       "<Figure size 800x800 with 1 Axes>"
      ]
     },
     "metadata": {},
     "output_type": "display_data"
    }
   ],
   "source": [
    "normal_data = loan['LoanAmount']\n",
    "normal_data.plot(kind='density',figsize=(8,8))\n",
    "plt.vlines(normal_data.mean(),ymin=0,ymax=0.02,linewidth=2.0,color='k')\n",
    "plt.vlines(normal_data.median(),ymin=0,ymax=0.02,linewidth=2.0,color='blue')\n",
    "plt.vlines(normal_data.mode(),ymin=0,ymax=0.02,linewidth=2.0,color='red')\n",
    "plt.show()"
   ]
  },
  {
   "cell_type": "markdown",
   "id": "71bc4d39",
   "metadata": {},
   "source": [
    "### Conditional Probability"
   ]
  },
  {
   "cell_type": "markdown",
   "id": "e589fd4b",
   "metadata": {},
   "source": [
    "- A measure of calculating a probability of an event (A) to occur given that another event (B) has already occured"
   ]
  },
  {
   "cell_type": "markdown",
   "id": "569dfed7",
   "metadata": {},
   "source": [
    "Formula: **`P(A|B) = P(A&B)/P(B)`**"
   ]
  },
  {
   "cell_type": "markdown",
   "id": "e3069603",
   "metadata": {},
   "source": [
    "P(A|B) = probability of A occuring, given B occured\n",
    "\n",
    "P(A$B) = Probability of both A and B occuring\n",
    "\n",
    "P(B) = probability of B occuring"
   ]
  },
  {
   "cell_type": "code",
   "execution_count": 7,
   "id": "57651ac0",
   "metadata": {},
   "outputs": [
    {
     "data": {
      "text/plain": [
       "Loan_ID               0\n",
       "Gender               13\n",
       "Married               3\n",
       "Dependents           15\n",
       "Education             0\n",
       "Self_Employed        32\n",
       "ApplicantIncome       0\n",
       "CoapplicantIncome     0\n",
       "LoanAmount           22\n",
       "Loan_Amount_Term     14\n",
       "Credit_History       50\n",
       "Property_Area         0\n",
       "Loan_Status           0\n",
       "dtype: int64"
      ]
     },
     "execution_count": 7,
     "metadata": {},
     "output_type": "execute_result"
    }
   ],
   "source": [
    "loan.isnull().sum()"
   ]
  },
  {
   "cell_type": "code",
   "execution_count": 8,
   "id": "f1eb8f63",
   "metadata": {},
   "outputs": [],
   "source": [
    "loan['Gender'].fillna(loan['Gender'].mode()[0],inplace=True)\n",
    "loan['Married'].fillna(loan['Married'].mode()[0],inplace=True)\n",
    "loan['Dependents'].fillna(loan['Dependents'].mode()[0],inplace=True)\n",
    "loan['Self_Employed'].fillna(loan['Self_Employed'].mode()[0],inplace=True)\n",
    "loan['LoanAmount'].fillna(loan['LoanAmount'].mode()[0],inplace=True)\n",
    "loan['Loan_Amount_Term'].fillna(loan['Loan_Amount_Term'].mode()[0],inplace=True)\n",
    "loan['Credit_History'].fillna(loan['Credit_History'].mode()[0],inplace=True)"
   ]
  },
  {
   "cell_type": "code",
   "execution_count": 9,
   "id": "96f3f937",
   "metadata": {},
   "outputs": [
    {
     "data": {
      "text/plain": [
       "Loan_ID              0\n",
       "Gender               0\n",
       "Married              0\n",
       "Dependents           0\n",
       "Education            0\n",
       "Self_Employed        0\n",
       "ApplicantIncome      0\n",
       "CoapplicantIncome    0\n",
       "LoanAmount           0\n",
       "Loan_Amount_Term     0\n",
       "Credit_History       0\n",
       "Property_Area        0\n",
       "Loan_Status          0\n",
       "dtype: int64"
      ]
     },
     "execution_count": 9,
     "metadata": {},
     "output_type": "execute_result"
    }
   ],
   "source": [
    "loan.isnull().sum()"
   ]
  },
  {
   "cell_type": "markdown",
   "id": "02acf164",
   "metadata": {},
   "source": [
    "- We are going to calculate the probability an applicant gets an approval of loan, given that their credi history is good"
   ]
  },
  {
   "cell_type": "code",
   "execution_count": 14,
   "id": "196e5220",
   "metadata": {},
   "outputs": [
    {
     "data": {
      "text/plain": [
       "array([1., 0.])"
      ]
     },
     "execution_count": 14,
     "metadata": {},
     "output_type": "execute_result"
    }
   ],
   "source": [
    "loan['Credit_History'].unique()"
   ]
  },
  {
   "cell_type": "code",
   "execution_count": 15,
   "id": "6d6c72a0",
   "metadata": {},
   "outputs": [
    {
     "data": {
      "text/plain": [
       "array(['Y', 'N'], dtype=object)"
      ]
     },
     "execution_count": 15,
     "metadata": {},
     "output_type": "execute_result"
    }
   ],
   "source": [
    "loan['Loan_Status'].unique()"
   ]
  },
  {
   "cell_type": "code",
   "execution_count": 10,
   "id": "cf0eee2c",
   "metadata": {},
   "outputs": [
    {
     "data": {
      "text/html": [
       "<div>\n",
       "<style scoped>\n",
       "    .dataframe tbody tr th:only-of-type {\n",
       "        vertical-align: middle;\n",
       "    }\n",
       "\n",
       "    .dataframe tbody tr th {\n",
       "        vertical-align: top;\n",
       "    }\n",
       "\n",
       "    .dataframe thead th {\n",
       "        text-align: right;\n",
       "    }\n",
       "</style>\n",
       "<table border=\"1\" class=\"dataframe\">\n",
       "  <thead>\n",
       "    <tr style=\"text-align: right;\">\n",
       "      <th>Loan_Status</th>\n",
       "      <th>N</th>\n",
       "      <th>Y</th>\n",
       "      <th>All</th>\n",
       "    </tr>\n",
       "    <tr>\n",
       "      <th>Credit_History</th>\n",
       "      <th></th>\n",
       "      <th></th>\n",
       "      <th></th>\n",
       "    </tr>\n",
       "  </thead>\n",
       "  <tbody>\n",
       "    <tr>\n",
       "      <th>0.0</th>\n",
       "      <td>82</td>\n",
       "      <td>7</td>\n",
       "      <td>89</td>\n",
       "    </tr>\n",
       "    <tr>\n",
       "      <th>1.0</th>\n",
       "      <td>110</td>\n",
       "      <td>415</td>\n",
       "      <td>525</td>\n",
       "    </tr>\n",
       "    <tr>\n",
       "      <th>All</th>\n",
       "      <td>192</td>\n",
       "      <td>422</td>\n",
       "      <td>614</td>\n",
       "    </tr>\n",
       "  </tbody>\n",
       "</table>\n",
       "</div>"
      ],
      "text/plain": [
       "Loan_Status       N    Y  All\n",
       "Credit_History               \n",
       "0.0              82    7   89\n",
       "1.0             110  415  525\n",
       "All             192  422  614"
      ]
     },
     "execution_count": 10,
     "metadata": {},
     "output_type": "execute_result"
    }
   ],
   "source": [
    "pd.crosstab(loan['Credit_History'],loan['Loan_Status'],margins=True)"
   ]
  },
  {
   "cell_type": "markdown",
   "id": "456d6068",
   "metadata": {},
   "source": [
    "### Intializing Probabilities\n",
    "\n",
    "P(A) : Loan has been approved\n",
    "\n",
    "P(B) : Credit history is good\n",
    "\n",
    "P (A|B) : Getting loan approval given that credit history is good"
   ]
  },
  {
   "cell_type": "markdown",
   "id": "9d31e870",
   "metadata": {},
   "source": [
    "### solution"
   ]
  },
  {
   "cell_type": "code",
   "execution_count": null,
   "id": "3e25f457",
   "metadata": {},
   "outputs": [],
   "source": [
    "P(A) = (7+415) / (110+415+82+7) = 0.6872964169381107\n",
    "P(B) = (110+425) / (110+415+82+7) = 0.8713355048859935\n",
    "P(A$B) = 415 / (110+415+82+7) = 0.6758957654723127"
   ]
  },
  {
   "cell_type": "code",
   "execution_count": 17,
   "id": "a3bdfaf5",
   "metadata": {},
   "outputs": [
    {
     "data": {
      "text/plain": [
       "0.6872964169381107"
      ]
     },
     "execution_count": 17,
     "metadata": {},
     "output_type": "execute_result"
    }
   ],
   "source": [
    "(7+415) / (110+415+82+7)"
   ]
  },
  {
   "cell_type": "code",
   "execution_count": 20,
   "id": "45d0978d",
   "metadata": {},
   "outputs": [
    {
     "data": {
      "text/plain": [
       "0.7887850467289719"
      ]
     },
     "execution_count": 20,
     "metadata": {},
     "output_type": "execute_result"
    }
   ],
   "source": [
    "0.6872964169381107 / 0.8713355048859935"
   ]
  },
  {
   "cell_type": "code",
   "execution_count": null,
   "id": "83813eaf",
   "metadata": {},
   "outputs": [],
   "source": [
    "P(A|B) = 0.6872964169381107 / 0.8713355048859935 = 0.7887850467289719"
   ]
  },
  {
   "cell_type": "code",
   "execution_count": 21,
   "id": "2f791e94",
   "metadata": {},
   "outputs": [
    {
     "data": {
      "text/plain": [
       "array(['Graduate', 'Not Graduate'], dtype=object)"
      ]
     },
     "execution_count": 21,
     "metadata": {},
     "output_type": "execute_result"
    }
   ],
   "source": [
    "loan['Education'].unique()"
   ]
  },
  {
   "cell_type": "markdown",
   "id": "59ad184f",
   "metadata": {},
   "source": [
    "### Solution"
   ]
  },
  {
   "cell_type": "code",
   "execution_count": 11,
   "id": "bf81749a",
   "metadata": {},
   "outputs": [
    {
     "data": {
      "text/html": [
       "<div>\n",
       "<style scoped>\n",
       "    .dataframe tbody tr th:only-of-type {\n",
       "        vertical-align: middle;\n",
       "    }\n",
       "\n",
       "    .dataframe tbody tr th {\n",
       "        vertical-align: top;\n",
       "    }\n",
       "\n",
       "    .dataframe thead th {\n",
       "        text-align: right;\n",
       "    }\n",
       "</style>\n",
       "<table border=\"1\" class=\"dataframe\">\n",
       "  <thead>\n",
       "    <tr style=\"text-align: right;\">\n",
       "      <th>Loan_Status</th>\n",
       "      <th>N</th>\n",
       "      <th>Y</th>\n",
       "      <th>All</th>\n",
       "    </tr>\n",
       "    <tr>\n",
       "      <th>Education</th>\n",
       "      <th></th>\n",
       "      <th></th>\n",
       "      <th></th>\n",
       "    </tr>\n",
       "  </thead>\n",
       "  <tbody>\n",
       "    <tr>\n",
       "      <th>Graduate</th>\n",
       "      <td>140</td>\n",
       "      <td>340</td>\n",
       "      <td>480</td>\n",
       "    </tr>\n",
       "    <tr>\n",
       "      <th>Not Graduate</th>\n",
       "      <td>52</td>\n",
       "      <td>82</td>\n",
       "      <td>134</td>\n",
       "    </tr>\n",
       "    <tr>\n",
       "      <th>All</th>\n",
       "      <td>192</td>\n",
       "      <td>422</td>\n",
       "      <td>614</td>\n",
       "    </tr>\n",
       "  </tbody>\n",
       "</table>\n",
       "</div>"
      ],
      "text/plain": [
       "Loan_Status     N    Y  All\n",
       "Education                  \n",
       "Graduate      140  340  480\n",
       "Not Graduate   52   82  134\n",
       "All           192  422  614"
      ]
     },
     "execution_count": 11,
     "metadata": {},
     "output_type": "execute_result"
    }
   ],
   "source": [
    "pd.crosstab(loan.Education,loan.Loan_Status,margins=True)"
   ]
  },
  {
   "cell_type": "markdown",
   "id": "634dbddf",
   "metadata": {},
   "source": [
    "P(A) = Loan has been approaved\n",
    "\n",
    "P(B) = Education\n",
    "\n",
    "P(A$B) = Getting  loan approved given educated"
   ]
  },
  {
   "cell_type": "code",
   "execution_count": 30,
   "id": "47cef853",
   "metadata": {},
   "outputs": [
    {
     "data": {
      "text/plain": [
       "0.6872964169381107"
      ]
     },
     "execution_count": 30,
     "metadata": {},
     "output_type": "execute_result"
    }
   ],
   "source": [
    "(340+82) / (140+52+340+82)"
   ]
  },
  {
   "cell_type": "code",
   "execution_count": 29,
   "id": "867dbd20",
   "metadata": {},
   "outputs": [
    {
     "data": {
      "text/plain": [
       "0.7817589576547231"
      ]
     },
     "execution_count": 29,
     "metadata": {},
     "output_type": "execute_result"
    }
   ],
   "source": [
    "(140+340) / (140+52+340+82)"
   ]
  },
  {
   "cell_type": "code",
   "execution_count": 28,
   "id": "81a88bf5",
   "metadata": {},
   "outputs": [
    {
     "data": {
      "text/plain": [
       "0.5537459283387622"
      ]
     },
     "execution_count": 28,
     "metadata": {},
     "output_type": "execute_result"
    }
   ],
   "source": [
    "340 / (140+52+340+82)"
   ]
  },
  {
   "cell_type": "code",
   "execution_count": 31,
   "id": "9cd1efb0",
   "metadata": {},
   "outputs": [
    {
     "data": {
      "text/plain": [
       "0.7083333333333334"
      ]
     },
     "execution_count": 31,
     "metadata": {},
     "output_type": "execute_result"
    }
   ],
   "source": [
    "0.5537459283387622 / 0.7817589576547231"
   ]
  },
  {
   "cell_type": "code",
   "execution_count": null,
   "id": "16cfd2b5",
   "metadata": {},
   "outputs": [],
   "source": [
    "P(A) = (340+82) / (140+52+340+82) = 0.6872964169381107\n",
    "P(B) = (140+340) / (140+52+340+82) = 0.7817589576547231\n",
    "P(A$B) = 340 / (140+52+340+82) = 0.5537459283387622\n",
    "P(A|B) = 0.5537459283387622 / 0.7817589576547231 = 0.7083333333333334"
   ]
  },
  {
   "cell_type": "markdown",
   "id": "4110844b",
   "metadata": {},
   "source": [
    "<h2 style='color:blue'>CASE STUDY ON KERALA FLOODS</h2>"
   ]
  },
  {
   "cell_type": "code",
   "execution_count": 12,
   "id": "48aa6985",
   "metadata": {},
   "outputs": [],
   "source": [
    "flood = pd.read_csv('kerala.csv.xls')"
   ]
  },
  {
   "cell_type": "code",
   "execution_count": 13,
   "id": "f52cf788",
   "metadata": {},
   "outputs": [
    {
     "data": {
      "text/html": [
       "<div>\n",
       "<style scoped>\n",
       "    .dataframe tbody tr th:only-of-type {\n",
       "        vertical-align: middle;\n",
       "    }\n",
       "\n",
       "    .dataframe tbody tr th {\n",
       "        vertical-align: top;\n",
       "    }\n",
       "\n",
       "    .dataframe thead th {\n",
       "        text-align: right;\n",
       "    }\n",
       "</style>\n",
       "<table border=\"1\" class=\"dataframe\">\n",
       "  <thead>\n",
       "    <tr style=\"text-align: right;\">\n",
       "      <th></th>\n",
       "      <th>SUBDIVISION</th>\n",
       "      <th>YEAR</th>\n",
       "      <th>JAN</th>\n",
       "      <th>FEB</th>\n",
       "      <th>MAR</th>\n",
       "      <th>APR</th>\n",
       "      <th>MAY</th>\n",
       "      <th>JUN</th>\n",
       "      <th>JUL</th>\n",
       "      <th>AUG</th>\n",
       "      <th>SEP</th>\n",
       "      <th>OCT</th>\n",
       "      <th>NOV</th>\n",
       "      <th>DEC</th>\n",
       "      <th>ANNUAL RAINFALL</th>\n",
       "      <th>FLOODS</th>\n",
       "    </tr>\n",
       "  </thead>\n",
       "  <tbody>\n",
       "    <tr>\n",
       "      <th>0</th>\n",
       "      <td>KERALA</td>\n",
       "      <td>1901</td>\n",
       "      <td>28.7</td>\n",
       "      <td>44.7</td>\n",
       "      <td>51.6</td>\n",
       "      <td>160.0</td>\n",
       "      <td>174.7</td>\n",
       "      <td>824.6</td>\n",
       "      <td>743.0</td>\n",
       "      <td>357.5</td>\n",
       "      <td>197.7</td>\n",
       "      <td>266.9</td>\n",
       "      <td>350.8</td>\n",
       "      <td>48.4</td>\n",
       "      <td>3248.6</td>\n",
       "      <td>YES</td>\n",
       "    </tr>\n",
       "    <tr>\n",
       "      <th>1</th>\n",
       "      <td>KERALA</td>\n",
       "      <td>1902</td>\n",
       "      <td>6.7</td>\n",
       "      <td>2.6</td>\n",
       "      <td>57.3</td>\n",
       "      <td>83.9</td>\n",
       "      <td>134.5</td>\n",
       "      <td>390.9</td>\n",
       "      <td>1205.0</td>\n",
       "      <td>315.8</td>\n",
       "      <td>491.6</td>\n",
       "      <td>358.4</td>\n",
       "      <td>158.3</td>\n",
       "      <td>121.5</td>\n",
       "      <td>3326.6</td>\n",
       "      <td>YES</td>\n",
       "    </tr>\n",
       "    <tr>\n",
       "      <th>2</th>\n",
       "      <td>KERALA</td>\n",
       "      <td>1903</td>\n",
       "      <td>3.2</td>\n",
       "      <td>18.6</td>\n",
       "      <td>3.1</td>\n",
       "      <td>83.6</td>\n",
       "      <td>249.7</td>\n",
       "      <td>558.6</td>\n",
       "      <td>1022.5</td>\n",
       "      <td>420.2</td>\n",
       "      <td>341.8</td>\n",
       "      <td>354.1</td>\n",
       "      <td>157.0</td>\n",
       "      <td>59.0</td>\n",
       "      <td>3271.2</td>\n",
       "      <td>YES</td>\n",
       "    </tr>\n",
       "    <tr>\n",
       "      <th>3</th>\n",
       "      <td>KERALA</td>\n",
       "      <td>1904</td>\n",
       "      <td>23.7</td>\n",
       "      <td>3.0</td>\n",
       "      <td>32.2</td>\n",
       "      <td>71.5</td>\n",
       "      <td>235.7</td>\n",
       "      <td>1098.2</td>\n",
       "      <td>725.5</td>\n",
       "      <td>351.8</td>\n",
       "      <td>222.7</td>\n",
       "      <td>328.1</td>\n",
       "      <td>33.9</td>\n",
       "      <td>3.3</td>\n",
       "      <td>3129.7</td>\n",
       "      <td>YES</td>\n",
       "    </tr>\n",
       "    <tr>\n",
       "      <th>4</th>\n",
       "      <td>KERALA</td>\n",
       "      <td>1905</td>\n",
       "      <td>1.2</td>\n",
       "      <td>22.3</td>\n",
       "      <td>9.4</td>\n",
       "      <td>105.9</td>\n",
       "      <td>263.3</td>\n",
       "      <td>850.2</td>\n",
       "      <td>520.5</td>\n",
       "      <td>293.6</td>\n",
       "      <td>217.2</td>\n",
       "      <td>383.5</td>\n",
       "      <td>74.4</td>\n",
       "      <td>0.2</td>\n",
       "      <td>2741.6</td>\n",
       "      <td>NO</td>\n",
       "    </tr>\n",
       "    <tr>\n",
       "      <th>...</th>\n",
       "      <td>...</td>\n",
       "      <td>...</td>\n",
       "      <td>...</td>\n",
       "      <td>...</td>\n",
       "      <td>...</td>\n",
       "      <td>...</td>\n",
       "      <td>...</td>\n",
       "      <td>...</td>\n",
       "      <td>...</td>\n",
       "      <td>...</td>\n",
       "      <td>...</td>\n",
       "      <td>...</td>\n",
       "      <td>...</td>\n",
       "      <td>...</td>\n",
       "      <td>...</td>\n",
       "      <td>...</td>\n",
       "    </tr>\n",
       "    <tr>\n",
       "      <th>113</th>\n",
       "      <td>KERALA</td>\n",
       "      <td>2014</td>\n",
       "      <td>4.6</td>\n",
       "      <td>10.3</td>\n",
       "      <td>17.9</td>\n",
       "      <td>95.7</td>\n",
       "      <td>251.0</td>\n",
       "      <td>454.4</td>\n",
       "      <td>677.8</td>\n",
       "      <td>733.9</td>\n",
       "      <td>298.8</td>\n",
       "      <td>355.5</td>\n",
       "      <td>99.5</td>\n",
       "      <td>47.2</td>\n",
       "      <td>3046.4</td>\n",
       "      <td>YES</td>\n",
       "    </tr>\n",
       "    <tr>\n",
       "      <th>114</th>\n",
       "      <td>KERALA</td>\n",
       "      <td>2015</td>\n",
       "      <td>3.1</td>\n",
       "      <td>5.8</td>\n",
       "      <td>50.1</td>\n",
       "      <td>214.1</td>\n",
       "      <td>201.8</td>\n",
       "      <td>563.6</td>\n",
       "      <td>406.0</td>\n",
       "      <td>252.2</td>\n",
       "      <td>292.9</td>\n",
       "      <td>308.1</td>\n",
       "      <td>223.6</td>\n",
       "      <td>79.4</td>\n",
       "      <td>2600.6</td>\n",
       "      <td>NO</td>\n",
       "    </tr>\n",
       "    <tr>\n",
       "      <th>115</th>\n",
       "      <td>KERALA</td>\n",
       "      <td>2016</td>\n",
       "      <td>2.4</td>\n",
       "      <td>3.8</td>\n",
       "      <td>35.9</td>\n",
       "      <td>143.0</td>\n",
       "      <td>186.4</td>\n",
       "      <td>522.2</td>\n",
       "      <td>412.3</td>\n",
       "      <td>325.5</td>\n",
       "      <td>173.2</td>\n",
       "      <td>225.9</td>\n",
       "      <td>125.4</td>\n",
       "      <td>23.6</td>\n",
       "      <td>2176.6</td>\n",
       "      <td>NO</td>\n",
       "    </tr>\n",
       "    <tr>\n",
       "      <th>116</th>\n",
       "      <td>KERALA</td>\n",
       "      <td>2017</td>\n",
       "      <td>1.9</td>\n",
       "      <td>6.8</td>\n",
       "      <td>8.9</td>\n",
       "      <td>43.6</td>\n",
       "      <td>173.5</td>\n",
       "      <td>498.5</td>\n",
       "      <td>319.6</td>\n",
       "      <td>531.8</td>\n",
       "      <td>209.5</td>\n",
       "      <td>192.4</td>\n",
       "      <td>92.5</td>\n",
       "      <td>38.1</td>\n",
       "      <td>2117.1</td>\n",
       "      <td>NO</td>\n",
       "    </tr>\n",
       "    <tr>\n",
       "      <th>117</th>\n",
       "      <td>KERALA</td>\n",
       "      <td>2018</td>\n",
       "      <td>29.1</td>\n",
       "      <td>52.1</td>\n",
       "      <td>48.6</td>\n",
       "      <td>116.4</td>\n",
       "      <td>183.8</td>\n",
       "      <td>625.4</td>\n",
       "      <td>1048.5</td>\n",
       "      <td>1398.9</td>\n",
       "      <td>423.6</td>\n",
       "      <td>356.1</td>\n",
       "      <td>125.4</td>\n",
       "      <td>65.1</td>\n",
       "      <td>4473.0</td>\n",
       "      <td>YES</td>\n",
       "    </tr>\n",
       "  </tbody>\n",
       "</table>\n",
       "<p>118 rows × 16 columns</p>\n",
       "</div>"
      ],
      "text/plain": [
       "    SUBDIVISION  YEAR   JAN   FEB   MAR    APR    MAY     JUN     JUL     AUG  \\\n",
       "0        KERALA  1901  28.7  44.7  51.6  160.0  174.7   824.6   743.0   357.5   \n",
       "1        KERALA  1902   6.7   2.6  57.3   83.9  134.5   390.9  1205.0   315.8   \n",
       "2        KERALA  1903   3.2  18.6   3.1   83.6  249.7   558.6  1022.5   420.2   \n",
       "3        KERALA  1904  23.7   3.0  32.2   71.5  235.7  1098.2   725.5   351.8   \n",
       "4        KERALA  1905   1.2  22.3   9.4  105.9  263.3   850.2   520.5   293.6   \n",
       "..          ...   ...   ...   ...   ...    ...    ...     ...     ...     ...   \n",
       "113      KERALA  2014   4.6  10.3  17.9   95.7  251.0   454.4   677.8   733.9   \n",
       "114      KERALA  2015   3.1   5.8  50.1  214.1  201.8   563.6   406.0   252.2   \n",
       "115      KERALA  2016   2.4   3.8  35.9  143.0  186.4   522.2   412.3   325.5   \n",
       "116     KERALA   2017   1.9   6.8   8.9   43.6  173.5   498.5   319.6   531.8   \n",
       "117      KERALA  2018  29.1  52.1  48.6  116.4  183.8   625.4  1048.5  1398.9   \n",
       "\n",
       "       SEP    OCT    NOV    DEC   ANNUAL RAINFALL FLOODS  \n",
       "0    197.7  266.9  350.8   48.4            3248.6    YES  \n",
       "1    491.6  358.4  158.3  121.5            3326.6    YES  \n",
       "2    341.8  354.1  157.0   59.0            3271.2    YES  \n",
       "3    222.7  328.1   33.9    3.3            3129.7    YES  \n",
       "4    217.2  383.5   74.4    0.2            2741.6     NO  \n",
       "..     ...    ...    ...    ...               ...    ...  \n",
       "113  298.8  355.5   99.5   47.2            3046.4    YES  \n",
       "114  292.9  308.1  223.6   79.4            2600.6     NO  \n",
       "115  173.2  225.9  125.4   23.6            2176.6     NO  \n",
       "116  209.5  192.4   92.5   38.1            2117.1     NO  \n",
       "117  423.6  356.1  125.4   65.1            4473.0    YES  \n",
       "\n",
       "[118 rows x 16 columns]"
      ]
     },
     "execution_count": 13,
     "metadata": {},
     "output_type": "execute_result"
    }
   ],
   "source": [
    "flood"
   ]
  },
  {
   "cell_type": "code",
   "execution_count": 14,
   "id": "95d99c12",
   "metadata": {},
   "outputs": [],
   "source": [
    "flood_kerala = flood[['YEAR','JUN','JUL','FLOODS']]"
   ]
  },
  {
   "cell_type": "markdown",
   "id": "a970633d",
   "metadata": {},
   "source": [
    "The dataset contains the monthly rainfall data from years 1901 to 2018 for the Indian state of Kerala.Kerala is one of the few states which are usually badly hit by monsoons every year"
   ]
  },
  {
   "cell_type": "code",
   "execution_count": 15,
   "id": "f5c1f899",
   "metadata": {},
   "outputs": [
    {
     "data": {
      "text/html": [
       "<div>\n",
       "<style scoped>\n",
       "    .dataframe tbody tr th:only-of-type {\n",
       "        vertical-align: middle;\n",
       "    }\n",
       "\n",
       "    .dataframe tbody tr th {\n",
       "        vertical-align: top;\n",
       "    }\n",
       "\n",
       "    .dataframe thead th {\n",
       "        text-align: right;\n",
       "    }\n",
       "</style>\n",
       "<table border=\"1\" class=\"dataframe\">\n",
       "  <thead>\n",
       "    <tr style=\"text-align: right;\">\n",
       "      <th></th>\n",
       "      <th>YEAR</th>\n",
       "      <th>JUN</th>\n",
       "      <th>JUL</th>\n",
       "      <th>FLOODS</th>\n",
       "    </tr>\n",
       "  </thead>\n",
       "  <tbody>\n",
       "    <tr>\n",
       "      <th>0</th>\n",
       "      <td>1901</td>\n",
       "      <td>824.6</td>\n",
       "      <td>743.0</td>\n",
       "      <td>YES</td>\n",
       "    </tr>\n",
       "    <tr>\n",
       "      <th>1</th>\n",
       "      <td>1902</td>\n",
       "      <td>390.9</td>\n",
       "      <td>1205.0</td>\n",
       "      <td>YES</td>\n",
       "    </tr>\n",
       "    <tr>\n",
       "      <th>2</th>\n",
       "      <td>1903</td>\n",
       "      <td>558.6</td>\n",
       "      <td>1022.5</td>\n",
       "      <td>YES</td>\n",
       "    </tr>\n",
       "    <tr>\n",
       "      <th>3</th>\n",
       "      <td>1904</td>\n",
       "      <td>1098.2</td>\n",
       "      <td>725.5</td>\n",
       "      <td>YES</td>\n",
       "    </tr>\n",
       "    <tr>\n",
       "      <th>4</th>\n",
       "      <td>1905</td>\n",
       "      <td>850.2</td>\n",
       "      <td>520.5</td>\n",
       "      <td>NO</td>\n",
       "    </tr>\n",
       "    <tr>\n",
       "      <th>...</th>\n",
       "      <td>...</td>\n",
       "      <td>...</td>\n",
       "      <td>...</td>\n",
       "      <td>...</td>\n",
       "    </tr>\n",
       "    <tr>\n",
       "      <th>113</th>\n",
       "      <td>2014</td>\n",
       "      <td>454.4</td>\n",
       "      <td>677.8</td>\n",
       "      <td>YES</td>\n",
       "    </tr>\n",
       "    <tr>\n",
       "      <th>114</th>\n",
       "      <td>2015</td>\n",
       "      <td>563.6</td>\n",
       "      <td>406.0</td>\n",
       "      <td>NO</td>\n",
       "    </tr>\n",
       "    <tr>\n",
       "      <th>115</th>\n",
       "      <td>2016</td>\n",
       "      <td>522.2</td>\n",
       "      <td>412.3</td>\n",
       "      <td>NO</td>\n",
       "    </tr>\n",
       "    <tr>\n",
       "      <th>116</th>\n",
       "      <td>2017</td>\n",
       "      <td>498.5</td>\n",
       "      <td>319.6</td>\n",
       "      <td>NO</td>\n",
       "    </tr>\n",
       "    <tr>\n",
       "      <th>117</th>\n",
       "      <td>2018</td>\n",
       "      <td>625.4</td>\n",
       "      <td>1048.5</td>\n",
       "      <td>YES</td>\n",
       "    </tr>\n",
       "  </tbody>\n",
       "</table>\n",
       "<p>118 rows × 4 columns</p>\n",
       "</div>"
      ],
      "text/plain": [
       "     YEAR     JUN     JUL FLOODS\n",
       "0    1901   824.6   743.0    YES\n",
       "1    1902   390.9  1205.0    YES\n",
       "2    1903   558.6  1022.5    YES\n",
       "3    1904  1098.2   725.5    YES\n",
       "4    1905   850.2   520.5     NO\n",
       "..    ...     ...     ...    ...\n",
       "113  2014   454.4   677.8    YES\n",
       "114  2015   563.6   406.0     NO\n",
       "115  2016   522.2   412.3     NO\n",
       "116  2017   498.5   319.6     NO\n",
       "117  2018   625.4  1048.5    YES\n",
       "\n",
       "[118 rows x 4 columns]"
      ]
     },
     "execution_count": 15,
     "metadata": {},
     "output_type": "execute_result"
    }
   ],
   "source": [
    "flood_kerala"
   ]
  },
  {
   "cell_type": "code",
   "execution_count": 36,
   "id": "83fbe8ae",
   "metadata": {},
   "outputs": [
    {
     "data": {
      "text/plain": [
       "YEAR      0\n",
       "JUN       0\n",
       "JUL       0\n",
       "FLOODS    0\n",
       "dtype: int64"
      ]
     },
     "execution_count": 36,
     "metadata": {},
     "output_type": "execute_result"
    }
   ],
   "source": [
    "flood_kerala.isnull().sum()"
   ]
  },
  {
   "cell_type": "code",
   "execution_count": 37,
   "id": "caf0e6cc",
   "metadata": {},
   "outputs": [
    {
     "data": {
      "text/plain": [
       "YEAR        int64\n",
       "JUN       float64\n",
       "JUL       float64\n",
       "FLOODS     object\n",
       "dtype: object"
      ]
     },
     "execution_count": 37,
     "metadata": {},
     "output_type": "execute_result"
    }
   ],
   "source": [
    "flood_kerala.dtypes"
   ]
  },
  {
   "cell_type": "code",
   "execution_count": 38,
   "id": "8b664dbc",
   "metadata": {},
   "outputs": [
    {
     "data": {
      "text/plain": [
       "array(['YES', 'NO'], dtype=object)"
      ]
     },
     "execution_count": 38,
     "metadata": {},
     "output_type": "execute_result"
    }
   ],
   "source": [
    "flood_kerala['FLOODS'].unique()"
   ]
  },
  {
   "cell_type": "code",
   "execution_count": 16,
   "id": "2e23c4ac",
   "metadata": {},
   "outputs": [
    {
     "name": "stderr",
     "output_type": "stream",
     "text": [
      "C:\\Users\\hp\\AppData\\Local\\Temp\\ipykernel_11740\\2293014189.py:1: SettingWithCopyWarning: \n",
      "A value is trying to be set on a copy of a slice from a DataFrame.\n",
      "Try using .loc[row_indexer,col_indexer] = value instead\n",
      "\n",
      "See the caveats in the documentation: https://pandas.pydata.org/pandas-docs/stable/user_guide/indexing.html#returning-a-view-versus-a-copy\n",
      "  flood_kerala['FLOODS'] = flood_kerala['FLOODS'].map({'NO':0,'YES':1})\n"
     ]
    }
   ],
   "source": [
    "flood_kerala['FLOODS'] = flood_kerala['FLOODS'].map({'NO':0,'YES':1})"
   ]
  },
  {
   "cell_type": "code",
   "execution_count": 41,
   "id": "1643cfe3",
   "metadata": {},
   "outputs": [
    {
     "data": {
      "text/plain": [
       "YEAR        int64\n",
       "JUN       float64\n",
       "JUL       float64\n",
       "FLOODS      int64\n",
       "dtype: object"
      ]
     },
     "execution_count": 41,
     "metadata": {},
     "output_type": "execute_result"
    }
   ],
   "source": [
    "flood_kerala.dtypes"
   ]
  },
  {
   "cell_type": "markdown",
   "id": "6689469d",
   "metadata": {},
   "source": [
    "- Since we are only interested to know the rainfall of months june and july and we want to find out the probability of flood in a particular year we are taking the corresponding feattures only "
   ]
  },
  {
   "cell_type": "markdown",
   "id": "2947cb4b",
   "metadata": {},
   "source": [
    "- Probability of flooding in a year given that it rained more than a threshold (500mm) in these months.We required to create more features in order to find these probabilities"
   ]
  },
  {
   "cell_type": "code",
   "execution_count": 17,
   "id": "bd6f35df",
   "metadata": {},
   "outputs": [
    {
     "name": "stderr",
     "output_type": "stream",
     "text": [
      "C:\\Users\\hp\\AppData\\Local\\Temp\\ipykernel_11740\\1327731121.py:1: SettingWithCopyWarning: \n",
      "A value is trying to be set on a copy of a slice from a DataFrame.\n",
      "Try using .loc[row_indexer,col_indexer] = value instead\n",
      "\n",
      "See the caveats in the documentation: https://pandas.pydata.org/pandas-docs/stable/user_guide/indexing.html#returning-a-view-versus-a-copy\n",
      "  flood_kerala['JUN_GT_500'] = (flood_kerala['JUN']>500).astype('int')\n",
      "C:\\Users\\hp\\AppData\\Local\\Temp\\ipykernel_11740\\1327731121.py:2: SettingWithCopyWarning: \n",
      "A value is trying to be set on a copy of a slice from a DataFrame.\n",
      "Try using .loc[row_indexer,col_indexer] = value instead\n",
      "\n",
      "See the caveats in the documentation: https://pandas.pydata.org/pandas-docs/stable/user_guide/indexing.html#returning-a-view-versus-a-copy\n",
      "  flood_kerala['JUL_GT_500'] = (flood_kerala['JUL']>500).astype('int')\n"
     ]
    }
   ],
   "source": [
    "flood_kerala['JUN_GT_500'] = (flood_kerala['JUN']>500).astype('int')\n",
    "flood_kerala['JUL_GT_500'] = (flood_kerala['JUL']>500).astype('int')\n",
    "df_small = flood_kerala.loc[:,['YEAR','JUN_GT_500','JUL_GT_500','FLOODS']]"
   ]
  },
  {
   "cell_type": "code",
   "execution_count": 18,
   "id": "aa513e66",
   "metadata": {},
   "outputs": [
    {
     "data": {
      "text/html": [
       "<div>\n",
       "<style scoped>\n",
       "    .dataframe tbody tr th:only-of-type {\n",
       "        vertical-align: middle;\n",
       "    }\n",
       "\n",
       "    .dataframe tbody tr th {\n",
       "        vertical-align: top;\n",
       "    }\n",
       "\n",
       "    .dataframe thead th {\n",
       "        text-align: right;\n",
       "    }\n",
       "</style>\n",
       "<table border=\"1\" class=\"dataframe\">\n",
       "  <thead>\n",
       "    <tr style=\"text-align: right;\">\n",
       "      <th></th>\n",
       "      <th>YEAR</th>\n",
       "      <th>JUN_GT_500</th>\n",
       "      <th>JUL_GT_500</th>\n",
       "      <th>FLOODS</th>\n",
       "    </tr>\n",
       "  </thead>\n",
       "  <tbody>\n",
       "    <tr>\n",
       "      <th>0</th>\n",
       "      <td>1901</td>\n",
       "      <td>1</td>\n",
       "      <td>1</td>\n",
       "      <td>1</td>\n",
       "    </tr>\n",
       "    <tr>\n",
       "      <th>1</th>\n",
       "      <td>1902</td>\n",
       "      <td>0</td>\n",
       "      <td>1</td>\n",
       "      <td>1</td>\n",
       "    </tr>\n",
       "    <tr>\n",
       "      <th>2</th>\n",
       "      <td>1903</td>\n",
       "      <td>1</td>\n",
       "      <td>1</td>\n",
       "      <td>1</td>\n",
       "    </tr>\n",
       "    <tr>\n",
       "      <th>3</th>\n",
       "      <td>1904</td>\n",
       "      <td>1</td>\n",
       "      <td>1</td>\n",
       "      <td>1</td>\n",
       "    </tr>\n",
       "    <tr>\n",
       "      <th>4</th>\n",
       "      <td>1905</td>\n",
       "      <td>1</td>\n",
       "      <td>1</td>\n",
       "      <td>0</td>\n",
       "    </tr>\n",
       "    <tr>\n",
       "      <th>...</th>\n",
       "      <td>...</td>\n",
       "      <td>...</td>\n",
       "      <td>...</td>\n",
       "      <td>...</td>\n",
       "    </tr>\n",
       "    <tr>\n",
       "      <th>113</th>\n",
       "      <td>2014</td>\n",
       "      <td>0</td>\n",
       "      <td>1</td>\n",
       "      <td>1</td>\n",
       "    </tr>\n",
       "    <tr>\n",
       "      <th>114</th>\n",
       "      <td>2015</td>\n",
       "      <td>1</td>\n",
       "      <td>0</td>\n",
       "      <td>0</td>\n",
       "    </tr>\n",
       "    <tr>\n",
       "      <th>115</th>\n",
       "      <td>2016</td>\n",
       "      <td>1</td>\n",
       "      <td>0</td>\n",
       "      <td>0</td>\n",
       "    </tr>\n",
       "    <tr>\n",
       "      <th>116</th>\n",
       "      <td>2017</td>\n",
       "      <td>0</td>\n",
       "      <td>0</td>\n",
       "      <td>0</td>\n",
       "    </tr>\n",
       "    <tr>\n",
       "      <th>117</th>\n",
       "      <td>2018</td>\n",
       "      <td>1</td>\n",
       "      <td>1</td>\n",
       "      <td>1</td>\n",
       "    </tr>\n",
       "  </tbody>\n",
       "</table>\n",
       "<p>118 rows × 4 columns</p>\n",
       "</div>"
      ],
      "text/plain": [
       "     YEAR  JUN_GT_500  JUL_GT_500  FLOODS\n",
       "0    1901           1           1       1\n",
       "1    1902           0           1       1\n",
       "2    1903           1           1       1\n",
       "3    1904           1           1       1\n",
       "4    1905           1           1       0\n",
       "..    ...         ...         ...     ...\n",
       "113  2014           0           1       1\n",
       "114  2015           1           0       0\n",
       "115  2016           1           0       0\n",
       "116  2017           0           0       0\n",
       "117  2018           1           1       1\n",
       "\n",
       "[118 rows x 4 columns]"
      ]
     },
     "execution_count": 18,
     "metadata": {},
     "output_type": "execute_result"
    }
   ],
   "source": [
    "df_small"
   ]
  },
  {
   "cell_type": "markdown",
   "id": "266c02e2",
   "metadata": {},
   "source": [
    "P(A) = Probability of Flooding\n",
    "\n",
    "P(B) = Probaility of having more than 500 mm rain in June\n",
    "\n",
    "p(AnB) = Probabiity of flooding and having more than 500mm rain in June\n",
    "\n",
    "P(A|B) = Probabiity of flooding given it rained more than 500 mm in June"
   ]
  },
  {
   "cell_type": "code",
   "execution_count": 19,
   "id": "cefb00fe",
   "metadata": {},
   "outputs": [
    {
     "data": {
      "text/html": [
       "<div>\n",
       "<style scoped>\n",
       "    .dataframe tbody tr th:only-of-type {\n",
       "        vertical-align: middle;\n",
       "    }\n",
       "\n",
       "    .dataframe tbody tr th {\n",
       "        vertical-align: top;\n",
       "    }\n",
       "\n",
       "    .dataframe thead th {\n",
       "        text-align: right;\n",
       "    }\n",
       "</style>\n",
       "<table border=\"1\" class=\"dataframe\">\n",
       "  <thead>\n",
       "    <tr style=\"text-align: right;\">\n",
       "      <th>JUN_GT_500</th>\n",
       "      <th>0</th>\n",
       "      <th>1</th>\n",
       "      <th>All</th>\n",
       "    </tr>\n",
       "    <tr>\n",
       "      <th>FLOODS</th>\n",
       "      <th></th>\n",
       "      <th></th>\n",
       "      <th></th>\n",
       "    </tr>\n",
       "  </thead>\n",
       "  <tbody>\n",
       "    <tr>\n",
       "      <th>0</th>\n",
       "      <td>19</td>\n",
       "      <td>39</td>\n",
       "      <td>58</td>\n",
       "    </tr>\n",
       "    <tr>\n",
       "      <th>1</th>\n",
       "      <td>6</td>\n",
       "      <td>54</td>\n",
       "      <td>60</td>\n",
       "    </tr>\n",
       "    <tr>\n",
       "      <th>All</th>\n",
       "      <td>25</td>\n",
       "      <td>93</td>\n",
       "      <td>118</td>\n",
       "    </tr>\n",
       "  </tbody>\n",
       "</table>\n",
       "</div>"
      ],
      "text/plain": [
       "JUN_GT_500   0   1  All\n",
       "FLOODS                 \n",
       "0           19  39   58\n",
       "1            6  54   60\n",
       "All         25  93  118"
      ]
     },
     "execution_count": 19,
     "metadata": {},
     "output_type": "execute_result"
    }
   ],
   "source": [
    "pd.crosstab(df_small['FLOODS'],df_small['JUN_GT_500'],margins=True)"
   ]
  },
  {
   "cell_type": "code",
   "execution_count": 20,
   "id": "84774619",
   "metadata": {},
   "outputs": [
    {
     "data": {
      "text/plain": [
       "0.5084745762711864"
      ]
     },
     "execution_count": 20,
     "metadata": {},
     "output_type": "execute_result"
    }
   ],
   "source": [
    "(6+54) / (19+39+6+54)  # P(A)"
   ]
  },
  {
   "cell_type": "code",
   "execution_count": 21,
   "id": "69b79139",
   "metadata": {},
   "outputs": [
    {
     "data": {
      "text/plain": [
       "0.788135593220339"
      ]
     },
     "execution_count": 21,
     "metadata": {},
     "output_type": "execute_result"
    }
   ],
   "source": [
    "(39+54) / (19+39+6+54)  # P(B)"
   ]
  },
  {
   "cell_type": "code",
   "execution_count": 22,
   "id": "a4347927",
   "metadata": {},
   "outputs": [
    {
     "data": {
      "text/plain": [
       "0.4576271186440678"
      ]
     },
     "execution_count": 22,
     "metadata": {},
     "output_type": "execute_result"
    }
   ],
   "source": [
    "54/(19+39+6+54)    # P(A$B)"
   ]
  },
  {
   "cell_type": "code",
   "execution_count": 23,
   "id": "666c83c3",
   "metadata": {},
   "outputs": [
    {
     "data": {
      "text/plain": [
       "0.5806451612903226"
      ]
     },
     "execution_count": 23,
     "metadata": {},
     "output_type": "execute_result"
    }
   ],
   "source": [
    "0.4576271186440678 / 0.788135593220339   # P(AUB)"
   ]
  },
  {
   "cell_type": "code",
   "execution_count": null,
   "id": "1fbfdac4",
   "metadata": {},
   "outputs": [],
   "source": []
  }
 ],
 "metadata": {
  "kernelspec": {
   "display_name": "Python 3 (ipykernel)",
   "language": "python",
   "name": "python3"
  },
  "language_info": {
   "codemirror_mode": {
    "name": "ipython",
    "version": 3
   },
   "file_extension": ".py",
   "mimetype": "text/x-python",
   "name": "python",
   "nbconvert_exporter": "python",
   "pygments_lexer": "ipython3",
   "version": "3.11.5"
  }
 },
 "nbformat": 4,
 "nbformat_minor": 5
}
